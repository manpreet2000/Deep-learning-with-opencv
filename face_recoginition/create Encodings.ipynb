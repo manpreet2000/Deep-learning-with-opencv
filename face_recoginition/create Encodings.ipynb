{
 "cells": [
  {
   "cell_type": "code",
   "execution_count": 1,
   "metadata": {},
   "outputs": [],
   "source": [
    "import face_recognition\n",
    "import cv2\n",
    "import os\n",
    "from imutils import paths\n",
    "import pickle\n",
    "from tqdm import tqdm"
   ]
  },
  {
   "cell_type": "code",
   "execution_count": 2,
   "metadata": {},
   "outputs": [],
   "source": [
    "image_paths=list(paths.list_images(\"dataset\"))\n",
    "knownEncodings=[]\n",
    "knownNames=[]"
   ]
  },
  {
   "cell_type": "code",
   "execution_count": 3,
   "metadata": {},
   "outputs": [],
   "source": [
    "#list(paths.list_images(\"dataset\"))[0].split(os.path.sep)[-2]------> name"
   ]
  },
  {
   "cell_type": "code",
   "execution_count": 4,
   "metadata": {},
   "outputs": [
    {
     "name": "stdout",
     "output_type": "stream",
     "text": [
      "[INFO] processing image 1/38\n",
      "[INFO] processing image 2/38\n",
      "[INFO] processing image 3/38\n",
      "[INFO] processing image 4/38\n",
      "[INFO] processing image 5/38\n",
      "[INFO] processing image 6/38\n",
      "[INFO] processing image 7/38\n",
      "[INFO] processing image 8/38\n",
      "[INFO] processing image 9/38\n",
      "[INFO] processing image 10/38\n",
      "[INFO] processing image 11/38\n",
      "[INFO] processing image 12/38\n",
      "[INFO] processing image 13/38\n",
      "[INFO] processing image 14/38\n",
      "[INFO] processing image 15/38\n",
      "[INFO] processing image 16/38\n",
      "[INFO] processing image 17/38\n",
      "[INFO] processing image 18/38\n",
      "[INFO] processing image 19/38\n",
      "[INFO] processing image 20/38\n",
      "[INFO] processing image 21/38\n",
      "[INFO] processing image 22/38\n",
      "[INFO] processing image 23/38\n",
      "[INFO] processing image 24/38\n",
      "[INFO] processing image 25/38\n",
      "[INFO] processing image 26/38\n",
      "[INFO] processing image 27/38\n",
      "[INFO] processing image 28/38\n",
      "[INFO] processing image 29/38\n",
      "[INFO] processing image 30/38\n",
      "[INFO] processing image 31/38\n",
      "[INFO] processing image 32/38\n",
      "[INFO] processing image 33/38\n",
      "[INFO] processing image 34/38\n",
      "[INFO] processing image 35/38\n",
      "[INFO] processing image 36/38\n",
      "[INFO] processing image 37/38\n",
      "[INFO] processing image 38/38\n"
     ]
    }
   ],
   "source": [
    "for (i,imagePath) in enumerate(image_paths):\n",
    "    print(\"[INFO] processing image {}/{}\".format(i + 1,len(image_paths)))\n",
    "    name = imagePath.split(os.path.sep)[-2]\n",
    "    img=cv2.imread(imagePath)\n",
    "    rgb=cv2.cvtColor(img,cv2.COLOR_BGR2RGB)\n",
    "\n",
    "    boxes=face_recognition.face_locations(rgb)\n",
    "    encodings = face_recognition.face_encodings(rgb, boxes)\n",
    "    for en in encodings:\n",
    "        knownEncodings.append(en)\n",
    "        knownNames.append(name)\n",
    "data={\"encodings\":knownEncodings,\"names\":knownNames}\n"
   ]
  },
  {
   "cell_type": "code",
   "execution_count": 7,
   "metadata": {},
   "outputs": [],
   "source": [
    "#data"
   ]
  },
  {
   "cell_type": "code",
   "execution_count": 8,
   "metadata": {},
   "outputs": [],
   "source": [
    "#pickle.dumps(data)"
   ]
  },
  {
   "cell_type": "code",
   "execution_count": 9,
   "metadata": {},
   "outputs": [],
   "source": [
    "f=open(\"emb.picke\",\"wb\")\n",
    "f.write(pickle.dumps(data))\n",
    "f.close()"
   ]
  },
  {
   "cell_type": "code",
   "execution_count": null,
   "metadata": {},
   "outputs": [],
   "source": []
  }
 ],
 "metadata": {
  "kernelspec": {
   "display_name": "Python 3",
   "language": "python",
   "name": "python3"
  },
  "language_info": {
   "codemirror_mode": {
    "name": "ipython",
    "version": 3
   },
   "file_extension": ".py",
   "mimetype": "text/x-python",
   "name": "python",
   "nbconvert_exporter": "python",
   "pygments_lexer": "ipython3",
   "version": "3.7.3"
  }
 },
 "nbformat": 4,
 "nbformat_minor": 2
}
