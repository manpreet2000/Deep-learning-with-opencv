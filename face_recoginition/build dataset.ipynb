{
 "cells": [
  {
   "cell_type": "code",
   "execution_count": 3,
   "metadata": {},
   "outputs": [],
   "source": [
    "import numpy as np\n",
    "import cv2\n",
    "import os\n"
   ]
  },
  {
   "cell_type": "code",
   "execution_count": 7,
   "metadata": {},
   "outputs": [],
   "source": [
    "\n",
    "def make_dataset(name):\n",
    "    cap=cv2.VideoCapture(0)\n",
    "    total=0\n",
    "    detector = cv2.CascadeClassifier(r\"C:\\Users\\pushp\\opencv-projects\\face_recoginition\\haarcascade_frontalface_default.xml\")\n",
    "    if \"dataset\" not in os.getcwd():\n",
    "        os.chdir(\"dataset\")\n",
    "    while True:\n",
    "        ret,frame=cap.read()\n",
    "        if ret is False:\n",
    "            cap.release()\n",
    "            break\n",
    "        orig=frame.copy()\n",
    "        rects=detector.detectMultiScale(cv2.cvtColor(frame, cv2.COLOR_BGR2GRAY), scaleFactor=1.1, minNeighbors=5, minSize=(30, 30))\n",
    "        for (x, y, w, h) in rects:\n",
    "            cv2.rectangle(frame, (x, y), (x + w, y + h), (0, 255, 0), 2)\n",
    "        cv2.imshow(\"me\",frame)\n",
    "        key = cv2.waitKey(1) & 0xFF\n",
    "        if key == ord(\"k\"):\n",
    "            \n",
    "            if os.path.exists(name):\n",
    "                p = name+\"/\"+\"{}.png\".format(str(total+1).zfill(5))\n",
    "                cv2.imwrite(p,orig)\n",
    "                total += 1\n",
    "            else:\n",
    "                os.makedirs(name)\n",
    "                p = name+\"/\"+\"{}.png\".format(str(total).zfill(5))\n",
    "                cv2.imwrite(p,orig)\n",
    "                total += 1\n",
    "        elif key==ord('q'):\n",
    "            break\n",
    "        \n",
    "    cap.release()\n",
    "    cv2.destroyAllWindows()"
   ]
  },
  {
   "cell_type": "code",
   "execution_count": 15,
   "metadata": {},
   "outputs": [
    {
     "name": "stdout",
     "output_type": "stream",
     "text": [
      "enter your name =>daddi\n"
     ]
    }
   ],
   "source": [
    "name=str(input(\"enter your name =>\"))\n",
    "make_dataset(name)"
   ]
  },
  {
   "cell_type": "code",
   "execution_count": null,
   "metadata": {},
   "outputs": [],
   "source": []
  }
 ],
 "metadata": {
  "kernelspec": {
   "display_name": "Python 3",
   "language": "python",
   "name": "python3"
  },
  "language_info": {
   "codemirror_mode": {
    "name": "ipython",
    "version": 3
   },
   "file_extension": ".py",
   "mimetype": "text/x-python",
   "name": "python",
   "nbconvert_exporter": "python",
   "pygments_lexer": "ipython3",
   "version": "3.7.3"
  }
 },
 "nbformat": 4,
 "nbformat_minor": 2
}
