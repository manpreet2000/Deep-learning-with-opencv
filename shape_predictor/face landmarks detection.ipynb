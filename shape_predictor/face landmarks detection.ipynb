{
 "cells": [
  {
   "cell_type": "code",
   "execution_count": 1,
   "metadata": {},
   "outputs": [],
   "source": [
    "import dlib\n",
    "import cv2\n",
    "import numpy as np\n",
    "import matplotlib.pyplot as plt\n",
    "import imutils"
   ]
  },
  {
   "cell_type": "code",
   "execution_count": 2,
   "metadata": {},
   "outputs": [],
   "source": [
    "def shape_2_np(shape):\n",
    "    \"\"\"as face landmark detector can be of 68 points and 198 points\n",
    "    in this notebook we are using 68 points detector\"\"\"\n",
    "    coords=np.zeros((68,2),dtype=\"int\")\n",
    "    \n",
    "    for i in range(68):\n",
    "        coords[i]=(shape.part(i).x,shape.part(i).y)\n",
    "    return coords"
   ]
  },
  {
   "cell_type": "code",
   "execution_count": 3,
   "metadata": {},
   "outputs": [],
   "source": [
    "def rect_2_bb(rect):\n",
    "    \"\"\"dlib produce rectangle but we are familier with\n",
    "    (x,y,w,h) format to draw bounding box\"\"\"\n",
    "    x=rect.left()\n",
    "    y=rect.top()\n",
    "    w=rect.right()-x\n",
    "    h=rect.bottom()-y\n",
    "    return (x,y,w,h)"
   ]
  },
  {
   "cell_type": "code",
   "execution_count": 4,
   "metadata": {},
   "outputs": [],
   "source": [
    "\"\"\"init dlib face detector which is based on HOG-SVM \"\"\"\n",
    "detector=dlib.get_frontal_face_detector()\n",
    "\n",
    "\"\"\"now turn for shape detector\"\"\"\n",
    "\n",
    "pred=dlib.shape_predictor(\"shape_predictor_68_face_landmarks.dat\")"
   ]
  },
  {
   "cell_type": "code",
   "execution_count": 5,
   "metadata": {},
   "outputs": [],
   "source": [
    "# img=cv2.imread(\"meme.jpeg\")\n",
    "# img=imutils.resize(img,width=500)\n",
    "# gray=cv2.cvtColor(img,cv2.COLOR_BGR2GRAY)\n",
    "\n",
    "# rects=detector(gray,1)"
   ]
  },
  {
   "cell_type": "code",
   "execution_count": 15,
   "metadata": {},
   "outputs": [
    {
     "data": {
      "text/plain": [
       "1"
      ]
     },
     "execution_count": 15,
     "metadata": {},
     "output_type": "execute_result"
    }
   ],
   "source": [
    "# len(rects)"
   ]
  },
  {
   "cell_type": "code",
   "execution_count": 7,
   "metadata": {},
   "outputs": [
    {
     "data": {
      "text/plain": [
       "rectangle(237,55,312,130)"
      ]
     },
     "execution_count": 7,
     "metadata": {},
     "output_type": "execute_result"
    }
   ],
   "source": [
    "# rects[0]"
   ]
  },
  {
   "cell_type": "code",
   "execution_count": 14,
   "metadata": {},
   "outputs": [
    {
     "data": {
      "text/plain": [
       "point(243, 83)"
      ]
     },
     "execution_count": 14,
     "metadata": {},
     "output_type": "execute_result"
    }
   ],
   "source": [
    "# pred(gray,rects[0]).part(0)"
   ]
  },
  {
   "cell_type": "code",
   "execution_count": 17,
   "metadata": {},
   "outputs": [
    {
     "data": {
      "text/plain": [
       "-1"
      ]
     },
     "execution_count": 17,
     "metadata": {},
     "output_type": "execute_result"
    }
   ],
   "source": [
    "# for (i,r) in enumerate(rects):\n",
    "#     shape=pred(gray,r)\n",
    "#     shape=shape_2_np(shape)\n",
    "#     (x,y,w,h)=rect_2_bb(r)\n",
    "#     cv2.rectangle(img, (x, y), (x + w, y + h), (0, 255, 0), 2)\n",
    "#     cv2.putText(img, \"Face #{}\".format(i + 1), (x - 10, y - 10),cv2.FONT_HERSHEY_SIMPLEX, 0.5, (0, 255, 0), 2)\n",
    "#     for (x, y) in shape:\n",
    "#         cv2.circle(img, (x, y), 1, (0, 0, 255), -1)\n",
    "# cv2.imshow(\"me\",img)\n",
    "# cv2.waitKey(0)"
   ]
  },
  {
   "cell_type": "code",
   "execution_count": 19,
   "metadata": {},
   "outputs": [],
   "source": [
    "def landmarks(img):\n",
    "    img=imutils.resize(img,width=500)\n",
    "    gray=cv2.cvtColor(img,cv2.COLOR_BGR2GRAY)\n",
    "\n",
    "    rects=detector(gray,1)\n",
    "    for (i,r) in enumerate(rects):\n",
    "        shape=pred(gray,r)\n",
    "        shape=shape_2_np(shape)\n",
    "        (x,y,w,h)=rect_2_bb(r)\n",
    "        cv2.rectangle(img, (x, y), (x + w, y + h), (0, 255, 0), 2)\n",
    "        cv2.putText(img, \"Face #{}\".format(i + 1), (x - 10, y - 10),cv2.FONT_HERSHEY_SIMPLEX, 0.5, (0, 255, 0), 2)\n",
    "        for (x, y) in shape:\n",
    "            cv2.circle(img, (x, y), 1, (0, 0, 255), -1)\n",
    "    return img"
   ]
  },
  {
   "cell_type": "code",
   "execution_count": 31,
   "metadata": {},
   "outputs": [
    {
     "data": {
      "text/plain": [
       "-1"
      ]
     },
     "execution_count": 31,
     "metadata": {},
     "output_type": "execute_result"
    }
   ],
   "source": [
    "\"\"\"to work with image\"\"\"\n",
    "landmarks(cv2.imread(\"meme.jpeg\"))\n",
    "cv2.imshow(\"me\",img)\n",
    "cv2.waitKey(0)"
   ]
  },
  {
   "cell_type": "code",
   "execution_count": 27,
   "metadata": {},
   "outputs": [],
   "source": [
    "\"\"\"with camera\"\"\"\n",
    "cap=cv2.VideoCapture(0)\n",
    "\n",
    "while True:\n",
    "    ret,img=cap.read()\n",
    "    \n",
    "    if ret is False:\n",
    "        cap.release()\n",
    "        break\n",
    "    \n",
    "    img=landmarks(img)\n",
    "    cv2.imshow(\"meme\",img)\n",
    "    if cv2.waitKey(1) & 0xFF==ord('q'):\n",
    "        break\n",
    "cap.release()\n",
    "cv2.destroyAllWindows()\n",
    "        "
   ]
  },
  {
   "cell_type": "code",
   "execution_count": 29,
   "metadata": {},
   "outputs": [],
   "source": [
    "cap.release()"
   ]
  },
  {
   "cell_type": "code",
   "execution_count": null,
   "metadata": {},
   "outputs": [],
   "source": []
  }
 ],
 "metadata": {
  "kernelspec": {
   "display_name": "Python 3",
   "language": "python",
   "name": "python3"
  },
  "language_info": {
   "codemirror_mode": {
    "name": "ipython",
    "version": 3
   },
   "file_extension": ".py",
   "mimetype": "text/x-python",
   "name": "python",
   "nbconvert_exporter": "python",
   "pygments_lexer": "ipython3",
   "version": "3.7.3"
  }
 },
 "nbformat": 4,
 "nbformat_minor": 2
}
