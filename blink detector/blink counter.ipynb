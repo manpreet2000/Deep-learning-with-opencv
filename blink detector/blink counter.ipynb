{
 "cells": [
  {
   "cell_type": "code",
   "execution_count": 45,
   "metadata": {},
   "outputs": [],
   "source": [
    "from scipy.spatial import distance as dist\n",
    "import numpy as np\n",
    "import cv2\n",
    "import dlib\n",
    "from imutils import face_utils"
   ]
  },
  {
   "cell_type": "code",
   "execution_count": 46,
   "metadata": {},
   "outputs": [],
   "source": [
    "\"\"\"eyes coordinates will be like ---\n",
    "\n",
    "  1  2 \n",
    "0      3\n",
    "  5  4\n",
    "  \n",
    "  eye_aspect_ratio = ||1-5||+||2-4||/2*||0-3||\"\"\"\n",
    "\n",
    "def eye_aspect_ratio(eye):\n",
    "\t# compute the euclidean distances between the two sets of\n",
    "\t# vertical eye landmarks (x, y)-coordinates\n",
    "\tA = dist.euclidean(eye[1], eye[5])\n",
    "\tB = dist.euclidean(eye[2], eye[4])\n",
    "\t# compute the euclidean distance between the horizontal\n",
    "\t# eye landmark (x, y)-coordinates\n",
    "\tC = dist.euclidean(eye[0], eye[3])\n",
    "\t# compute the eye aspect ratio\n",
    "\tear = (A + B) / (2.0 * C)\n",
    "\t# return the eye aspect ratio\n",
    "\treturn ear"
   ]
  },
  {
   "cell_type": "code",
   "execution_count": 26,
   "metadata": {},
   "outputs": [],
   "source": [
    "def rect_2_bb(rect):\n",
    "    \"\"\"dlib produce rectangle but we are familier with\n",
    "    (x,y,w,h) format to draw bounding box\"\"\"\n",
    "    x=rect.left()\n",
    "    y=rect.top()\n",
    "    w=rect.right()-x\n",
    "    h=rect.bottom()-y\n",
    "    return (x,y,w,h)\n",
    "\n",
    "def shape_2_np(shape):\n",
    "    \"\"\"as face landmark detector can be of 68 points and 198 points\n",
    "    in this notebook we are using 68 points detector\"\"\"\n",
    "    coords=np.zeros((68,2),dtype=\"int\")\n",
    "    \n",
    "    for i in range(68):\n",
    "        coords[i]=(shape.part(i).x,shape.part(i).y)\n",
    "    return coords"
   ]
  },
  {
   "cell_type": "code",
   "execution_count": 49,
   "metadata": {},
   "outputs": [],
   "source": [
    "\"\"\"\n",
    "THRESHOLD-----< RATIO will be considerd as blink\n",
    "\"\"\"\n",
    "\n",
    "\n",
    "threshold=0.27\n",
    "conc_frame=3\n",
    "count=0\n",
    "total=0\n",
    "\n",
    "detector=dlib.get_frontal_face_detector()\n",
    "pred=dlib.shape_predictor(\"shape_predictor_68_face_landmarks.dat\")\n",
    "(lStart, lEnd) = face_utils.FACIAL_LANDMARKS_IDXS[\"left_eye\"]\n",
    "(rStart, rEnd) =face_utils.FACIAL_LANDMARKS_IDXS[\"right_eye\"]\n",
    "cap=cv2.VideoCapture(0)\n",
    "\n",
    "while True:\n",
    "    ret,frame=cap.read()\n",
    "    gray=cv2.cvtColor(frame,cv2.COLOR_BGR2GRAY)\n",
    "    rects=detector(gray,0)\n",
    "    for r in rects:\n",
    "        shape=pred(gray,r)\n",
    "        \n",
    "        shape=shape_2_np(shape)\n",
    "        leftEye = shape[lStart:lEnd]\n",
    "        rightEye= shape[rStart:rEnd]\n",
    "        leftEAR =  eye_aspect_ratio(leftEye)\n",
    "        rightEAR =  eye_aspect_ratio(rightEye)\n",
    "        \n",
    "        ear = (leftEAR + rightEAR) / 2.0\n",
    "        leftEyeHull = cv2.convexHull(leftEye)\n",
    "        rightEyeHull = cv2.convexHull(rightEye)\n",
    "        cv2.drawContours(frame, [leftEyeHull], -1, (0, 255, 0), 1)\n",
    "        cv2.drawContours(frame, [rightEyeHull], -1, (0, 255, 0), 1)\n",
    "        \n",
    "        if ear<threshold:\n",
    "            count+=1\n",
    "        else:\n",
    "            if count>=conc_frame:\n",
    "                total+=1\n",
    "                \n",
    "                count=0\n",
    "        cv2.putText(frame, \"Blinks: {}\".format(total), (10, 30),cv2.FONT_HERSHEY_SIMPLEX, 0.7, (0, 0, 255), 2)\n",
    "        cv2.putText(frame, \"EAR: {:.2f}\".format(ear), (300, 30),cv2.FONT_HERSHEY_SIMPLEX, 0.7, (0, 0, 255), 2)\n",
    "        \n",
    "    cv2.imshow(\"meme\",frame)\n",
    "    if cv2.waitKey(1) & 0xFF==ord('q'):\n",
    "        break\n",
    "    \n",
    "cap.release()\n",
    "cv2.destroyAllWindows()"
   ]
  },
  {
   "cell_type": "code",
   "execution_count": 43,
   "metadata": {},
   "outputs": [],
   "source": [
    "cap.release()\n",
    "cv2.destroyAllWindows()"
   ]
  },
  {
   "cell_type": "code",
   "execution_count": 34,
   "metadata": {},
   "outputs": [],
   "source": []
  },
  {
   "cell_type": "code",
   "execution_count": null,
   "metadata": {},
   "outputs": [],
   "source": []
  }
 ],
 "metadata": {
  "kernelspec": {
   "display_name": "Python 3",
   "language": "python",
   "name": "python3"
  },
  "language_info": {
   "codemirror_mode": {
    "name": "ipython",
    "version": 3
   },
   "file_extension": ".py",
   "mimetype": "text/x-python",
   "name": "python",
   "nbconvert_exporter": "python",
   "pygments_lexer": "ipython3",
   "version": "3.7.3"
  }
 },
 "nbformat": 4,
 "nbformat_minor": 2
}
