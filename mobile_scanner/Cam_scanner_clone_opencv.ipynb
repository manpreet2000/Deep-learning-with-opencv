{
 "cells": [
  {
   "cell_type": "code",
   "execution_count": 98,
   "metadata": {},
   "outputs": [],
   "source": [
    "import cv2\n",
    "from skimage.filters import threshold_local\n",
    "from four_point import four_points\n",
    "import numpy as np\n",
    "import imutils\n",
    "import matplotlib.pyplot as plt"
   ]
  },
  {
   "cell_type": "code",
   "execution_count": 141,
   "metadata": {},
   "outputs": [],
   "source": [
    "\"\"\" approach is \n",
    "1 find corners\n",
    "2 find contors\n",
    "3 apply image processing techniques \"\"\"\n",
    "\n",
    "\n",
    "def preprocess(image):\n",
    "    \n",
    "    orig=image.copy()\n",
    "    ratio=image.shape[0]/300.0\n",
    "    image=imutils.resize(image,height=300)\n",
    "    gray=cv2.cvtColor(image,cv2.COLOR_BGR2GRAY)\n",
    "    gray = cv2.GaussianBlur(gray, (3, 3), 0)\n",
    "    gray=cv2.Canny(gray,55,200)\n",
    "    \n",
    "    cnts=cv2.findContours(gray,cv2.RETR_LIST, cv2.CHAIN_APPROX_SIMPLE)\n",
    "    cnts = imutils.grab_contours(cnts)\n",
    "    cnts = sorted(cnts, key = cv2.contourArea, reverse = True)[:10]\n",
    "    \n",
    "    for c in cnts:\n",
    "        peri=cv2.arcLength(c,True)\n",
    "        approx = cv2.approxPolyDP(c, 0.02 * peri, True)\n",
    "        \n",
    "        if len(approx)==4:\n",
    "            screenshot=approx\n",
    "            break\n",
    "    cv2.drawContours(image, [screenshot], -1, (0, 255, 0), 2)\n",
    "    \n",
    "    warped = four_points(orig, screenshot.reshape(4, 2) * ratio)\n",
    "    warped = cv2.cvtColor(warped, cv2.COLOR_BGR2GRAY)\n",
    "    T = threshold_local(warped, 23, offset = 8, method = \"gaussian\")\n",
    "    warped=(warped>T).astype(\"uint8\")*255\n",
    "    \n",
    "    \n",
    "    return warped\n",
    "    "
   ]
  },
  {
   "cell_type": "code",
   "execution_count": 143,
   "metadata": {},
   "outputs": [
    {
     "data": {
      "text/plain": [
       "-1"
      ]
     },
     "execution_count": 143,
     "metadata": {},
     "output_type": "execute_result"
    }
   ],
   "source": [
    "pic1=cv2.imread(\"pic.jpg\")\n",
    "img=preprocess(pic1)\n"
   ]
  },
  {
   "cell_type": "code",
   "execution_count": 152,
   "metadata": {},
   "outputs": [
    {
     "data": {
      "text/plain": [
       "-1"
      ]
     },
     "execution_count": 152,
     "metadata": {},
     "output_type": "execute_result"
    }
   ],
   "source": [
    "cv2.namedWindow('potrait', cv2.WINDOW_NORMAL)\n",
    "cv2.resizeWindow('potrait', 700,500)\n",
    "cv2.namedWindow('potraitt', cv2.WINDOW_NORMAL)\n",
    "cv2.resizeWindow('potraitt', 700,500)\n",
    "cv2.imshow(\"potrait\",img)\n",
    "cv2.imshow(\"potraitt\",pic1)\n",
    "cv2.waitKey(0)\n",
    "#cv2.destroyAllWindows()"
   ]
  },
  {
   "cell_type": "code",
   "execution_count": 153,
   "metadata": {},
   "outputs": [
    {
     "data": {
      "text/plain": [
       "True"
      ]
     },
     "execution_count": 153,
     "metadata": {},
     "output_type": "execute_result"
    }
   ],
   "source": [
    "cv2.imwrite(\"output.jpeg\",img)"
   ]
  },
  {
   "cell_type": "code",
   "execution_count": 145,
   "metadata": {},
   "outputs": [],
   "source": [
    "cv2.destroyAllWindows()"
   ]
  },
  {
   "cell_type": "code",
   "execution_count": null,
   "metadata": {},
   "outputs": [],
   "source": []
  }
 ],
 "metadata": {
  "kernelspec": {
   "display_name": "Python 3",
   "language": "python",
   "name": "python3"
  },
  "language_info": {
   "codemirror_mode": {
    "name": "ipython",
    "version": 3
   },
   "file_extension": ".py",
   "mimetype": "text/x-python",
   "name": "python",
   "nbconvert_exporter": "python",
   "pygments_lexer": "ipython3",
   "version": "3.7.3"
  }
 },
 "nbformat": 4,
 "nbformat_minor": 2
}
