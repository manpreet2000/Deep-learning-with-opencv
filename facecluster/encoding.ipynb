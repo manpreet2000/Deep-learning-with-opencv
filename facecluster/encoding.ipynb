{
 "cells": [
  {
   "cell_type": "code",
   "execution_count": 1,
   "metadata": {},
   "outputs": [],
   "source": [
    "import glob \n",
    "import face_recognition\n",
    "import argparse\n",
    "import pickle\n",
    "import cv2\n",
    "import os"
   ]
  },
  {
   "cell_type": "code",
   "execution_count": 2,
   "metadata": {},
   "outputs": [],
   "source": [
    "imagepaths=[]\n",
    "for name in glob.glob(\"dataset/*\"):\n",
    "    imagepaths.append(name)\n",
    "       "
   ]
  },
  {
   "cell_type": "code",
   "execution_count": 3,
   "metadata": {},
   "outputs": [
    {
     "name": "stdout",
     "output_type": "stream",
     "text": [
      "img 1/38 \n",
      "img 2/38 \n",
      "img 3/38 \n",
      "img 4/38 \n",
      "img 5/38 \n",
      "img 6/38 \n",
      "img 7/38 \n",
      "img 8/38 \n",
      "img 9/38 \n",
      "img 10/38 \n",
      "img 11/38 \n",
      "img 12/38 \n",
      "img 13/38 \n",
      "img 14/38 \n",
      "img 15/38 \n",
      "img 16/38 \n",
      "img 17/38 \n",
      "img 18/38 \n",
      "img 19/38 \n",
      "img 20/38 \n",
      "img 21/38 \n",
      "img 22/38 \n",
      "img 23/38 \n",
      "img 24/38 \n",
      "img 25/38 \n",
      "img 26/38 \n",
      "img 27/38 \n",
      "img 28/38 \n",
      "img 29/38 \n",
      "img 30/38 \n",
      "img 31/38 \n",
      "img 32/38 \n",
      "img 33/38 \n",
      "img 34/38 \n",
      "img 35/38 \n",
      "img 36/38 \n",
      "img 37/38 \n",
      "img 38/38 \n"
     ]
    }
   ],
   "source": [
    "data=[]\n",
    "for (i,img) in enumerate(imagepaths):\n",
    "    print(\"img {}/{} \".format(i+1,len(imagepaths)))\n",
    "    imgg=cv2.imread(img)\n",
    "    rgb=cv2.cvtColor(imgg,cv2.COLOR_BGR2RGB)\n",
    "    boxes=face_recognition.face_locations(rgb)\n",
    "    encodings=face_recognition.face_encodings(rgb,boxes)\n",
    "    d=[{\"imgpath\":img,\"box\":box,\"encodings\":enc} for (box,enc) in zip(boxes,encodings)]\n",
    "    data.extend(d)\n",
    "    "
   ]
  },
  {
   "cell_type": "code",
   "execution_count": 4,
   "metadata": {},
   "outputs": [],
   "source": [
    "f = open(\"enc.pickle\", \"wb\")\n",
    "f.write(pickle.dumps(data))\n",
    "f.close()"
   ]
  },
  {
   "cell_type": "code",
   "execution_count": null,
   "metadata": {},
   "outputs": [],
   "source": []
  }
 ],
 "metadata": {
  "kernelspec": {
   "display_name": "Python 3",
   "language": "python",
   "name": "python3"
  },
  "language_info": {
   "codemirror_mode": {
    "name": "ipython",
    "version": 3
   },
   "file_extension": ".py",
   "mimetype": "text/x-python",
   "name": "python",
   "nbconvert_exporter": "python",
   "pygments_lexer": "ipython3",
   "version": "3.7.3"
  }
 },
 "nbformat": 4,
 "nbformat_minor": 2
}
