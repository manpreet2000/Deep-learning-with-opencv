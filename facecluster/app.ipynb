{
 "cells": [
  {
   "cell_type": "code",
   "execution_count": 43,
   "metadata": {},
   "outputs": [],
   "source": [
    "import pickle\n",
    "import cv2\n",
    "import numpy as np\n",
    "from sklearn.cluster import DBSCAN\n",
    "from imutils import build_montages\n",
    "import os\n",
    "from tqdm import tqdm"
   ]
  },
  {
   "cell_type": "code",
   "execution_count": 6,
   "metadata": {},
   "outputs": [],
   "source": [
    "data = pickle.loads(open(\"enc.pickle\", \"rb\").read())\n",
    "data=np.array(data)"
   ]
  },
  {
   "cell_type": "code",
   "execution_count": 12,
   "metadata": {},
   "outputs": [],
   "source": [
    "encodings=[d['encodings'] for d in data]"
   ]
  },
  {
   "cell_type": "code",
   "execution_count": 13,
   "metadata": {},
   "outputs": [
    {
     "data": {
      "text/plain": [
       "DBSCAN(algorithm='auto', eps=0.5, leaf_size=30, metric='euclidean',\n",
       "    metric_params=None, min_samples=5, n_jobs=-1, p=None)"
      ]
     },
     "execution_count": 13,
     "metadata": {},
     "output_type": "execute_result"
    }
   ],
   "source": [
    "clt = DBSCAN(metric=\"euclidean\", n_jobs=-1)\n",
    "clt.fit(encodings)"
   ]
  },
  {
   "cell_type": "code",
   "execution_count": 14,
   "metadata": {},
   "outputs": [
    {
     "data": {
      "text/plain": [
       "array([ 0,  1,  2,  3,  0,  1,  2,  3,  0,  1,  2,  3, -1,  0,  1,  2,  3,\n",
       "        0,  1,  2,  3,  0,  1,  2,  3,  0,  1,  2, -1,  2, -1,  2,  2],\n",
       "      dtype=int64)"
      ]
     },
     "execution_count": 14,
     "metadata": {},
     "output_type": "execute_result"
    }
   ],
   "source": [
    "clt.labels_"
   ]
  },
  {
   "cell_type": "code",
   "execution_count": 17,
   "metadata": {},
   "outputs": [
    {
     "data": {
      "text/plain": [
       "array([-1,  0,  1,  2,  3], dtype=int64)"
      ]
     },
     "execution_count": 17,
     "metadata": {},
     "output_type": "execute_result"
    }
   ],
   "source": [
    "labelIDs = np.unique(clt.labels_)\n",
    "labelIDs"
   ]
  },
  {
   "cell_type": "code",
   "execution_count": 20,
   "metadata": {},
   "outputs": [],
   "source": [
    "numUniqueFaces=len(np.where(labelIDs>-1)[0])"
   ]
  },
  {
   "cell_type": "code",
   "execution_count": 21,
   "metadata": {},
   "outputs": [
    {
     "name": "stdout",
     "output_type": "stream",
     "text": [
      "unique faces: 4\n"
     ]
    }
   ],
   "source": [
    "print(\"unique faces: {}\".format(numUniqueFaces))"
   ]
  },
  {
   "cell_type": "code",
   "execution_count": 47,
   "metadata": {},
   "outputs": [
    {
     "name": "stderr",
     "output_type": "stream",
     "text": [
      "100%|██████████| 5/5 [00:05<00:00,  1.04s/it]\n"
     ]
    }
   ],
   "source": [
    "for labelID in tqdm(labelIDs):\n",
    "    #print(labelID)\n",
    "    idxs = np.where(clt.labels_ == labelID)[0]\n",
    "    idxs = np.random.choice(idxs, size=min(25, len(idxs)),replace=False)\n",
    "    faces = []\n",
    "    path=r'folder/id'+str(labelID)\n",
    "    if not os.path.exists(path):\n",
    "        os.makedirs(path)\n",
    "    for i in idxs:\n",
    "        img=cv2.imread(data[i][\"imgpath\"])\n",
    "        #(top, right, bottom, left) = data[i][\"box\"]\n",
    "        #face = img[top:bottom, left:right]\n",
    "        #face = cv2.resize(face, (96, 96))\n",
    "        #faces.append(img)\n",
    "        cv2.imwrite(path+\"/\"+str(i)+\".jpeg\",img)\n",
    "    \n",
    "    \n",
    "#     montage = build_montages(faces, (96, 96), (5, 5))[0]\n",
    "#     title = \"Face ID #{}\".format(labelID)\n",
    "#     title = \"Unknown Faces\" if labelID == -1 else title\n",
    "#     cv2.imshow(title, montage)\n",
    "#     cv2.waitKey(0)\n",
    "    "
   ]
  },
  {
   "cell_type": "code",
   "execution_count": null,
   "metadata": {},
   "outputs": [],
   "source": []
  }
 ],
 "metadata": {
  "kernelspec": {
   "display_name": "Python 3",
   "language": "python",
   "name": "python3"
  },
  "language_info": {
   "codemirror_mode": {
    "name": "ipython",
    "version": 3
   },
   "file_extension": ".py",
   "mimetype": "text/x-python",
   "name": "python",
   "nbconvert_exporter": "python",
   "pygments_lexer": "ipython3",
   "version": "3.7.3"
  }
 },
 "nbformat": 4,
 "nbformat_minor": 2
}
